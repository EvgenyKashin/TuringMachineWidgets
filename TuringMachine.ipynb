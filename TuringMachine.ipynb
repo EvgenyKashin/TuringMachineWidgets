{
 "cells": [
  {
   "cell_type": "code",
   "execution_count": 1,
   "metadata": {
    "ExecuteTime": {
     "end_time": "2017-10-03T13:05:32.051227Z",
     "start_time": "2017-10-03T13:05:32.032129Z"
    }
   },
   "outputs": [],
   "source": [
    "import ipywidgets as widgets\n",
    "from ipywidgets import interact\n",
    "from IPython.display import display\n",
    "import random"
   ]
  },
  {
   "cell_type": "markdown",
   "metadata": {},
   "source": [
    "## Widgets initialization"
   ]
  },
  {
   "cell_type": "code",
   "execution_count": 2,
   "metadata": {},
   "outputs": [],
   "source": [
    "line_out = widgets.HTML()\n",
    "current_out = widgets.HTML()\n",
    "finish_out = widgets.HTML()\n",
    "\n",
    "step_btn = widgets.Button(description='Step', button_style='primary')\n",
    "gen_btn = widgets.Button(description='Generate line', button_style='primary')\n",
    "finish_btn = widgets.Button(description='Step all', button_style='danger')"
   ]
  },
  {
   "cell_type": "markdown",
   "metadata": {},
   "source": [
    "## TuringMachine class"
   ]
  },
  {
   "cell_type": "code",
   "execution_count": 3,
   "metadata": {},
   "outputs": [],
   "source": [
    "class Tape(object):\n",
    "    \n",
    "    blank_symbol = \"#\"\n",
    "    \n",
    "    def __init__(self,\n",
    "                 tape_string = \"\"):\n",
    "        self.__tape = dict((enumerate(tape_string)))\n",
    "        # last line is equivalent to the following three lines:\n",
    "        #self.__tape = {}\n",
    "        #for i in range(len(tape_string)):\n",
    "        #    self.__tape[i] = input[i]\n",
    "        \n",
    "    def __str__(self):\n",
    "        s = \"\"\n",
    "        min_used_index = min(self.__tape.keys()) \n",
    "        max_used_index = max(self.__tape.keys())\n",
    "        for i in range(min_used_index, max_used_index + 1):\n",
    "            s += self.__tape[i]\n",
    "        return s    \n",
    "   \n",
    "    def __getitem__(self,index):\n",
    "        if index in self.__tape:\n",
    "            return self.__tape[index]\n",
    "        else:\n",
    "            return Tape.blank_symbol\n",
    "\n",
    "    def __setitem__(self, pos, char):\n",
    "        self.__tape[pos] = char \n",
    "\n",
    "        \n",
    "class TuringMachine(object):\n",
    "    \n",
    "    def __init__(self, \n",
    "                 tape = \"\", \n",
    "                 blank_symbol = \"#\",\n",
    "                 initial_state = \"\",\n",
    "                 transition_function = None):\n",
    "        self.__tape = Tape(tape)\n",
    "        self.__head_position = 1\n",
    "        self.__blank_symbol = blank_symbol\n",
    "        self.__current_state = initial_state\n",
    "        if transition_function == None:\n",
    "            self.__transition_function = {}\n",
    "        else:\n",
    "            self.__transition_function = transition_function\n",
    "        \n",
    "    def get_tape(self): \n",
    "        return str(self.__tape)\n",
    "    \n",
    "    def step(self):\n",
    "        char_under_head = self.__tape[self.__head_position]\n",
    "        x = (self.__current_state, char_under_head)\n",
    "        if x in self.__transition_function:\n",
    "            y = self.__transition_function[x]\n",
    "            self.__tape[self.__head_position] = y[1]\n",
    "            if y[2] == \"r\":\n",
    "                self.__head_position += 1\n",
    "            elif y[2] == \"l\":\n",
    "                self.__head_position -= 1\n",
    "            self.__current_state = y[0]\n",
    "            current_out.value = x[0] + ' ' + x[1] + ' -> ' + y[0] + ' ' + y[1] + ' ' + y[2]\n",
    "            return False\n",
    "        else:\n",
    "            return True"
   ]
  },
  {
   "cell_type": "markdown",
   "metadata": {},
   "source": [
    "## Example problem"
   ]
  },
  {
   "cell_type": "code",
   "execution_count": 4,
   "metadata": {},
   "outputs": [],
   "source": [
    "def gen_line(l=7):\n",
    "    line = [random.choice('AB') for i in range(l)]\n",
    "    return ''.join(['#'] + line + ['#'])"
   ]
  },
  {
   "cell_type": "code",
   "execution_count": 5,
   "metadata": {},
   "outputs": [],
   "source": [
    "transition_function = {\n",
    "    ('q0', 'A'): ('q0', 'A', 'r'),\n",
    "    ('q0', 'B'): ('q0', '*', 'r'),\n",
    "    ('q0', '*'): ('q0', '*', 'r'),\n",
    "    ('q0', '#'): ('q1', '#', 'l'),\n",
    "    \n",
    "    ('q1', 'A'): ('q2', 'A', 'l'),\n",
    "    ('q1', '*'): ('q1', '#', 'l'),\n",
    "    ('q1', '#'): ('q1', '#', 'r'),\n",
    "    \n",
    "    ('q2', 'A'): ('q3', '*', 'r'),\n",
    "    ('q2', '*'): ('q2', '*', 'l'),\n",
    "    ('q2', '#'): ('q5', '#', 'r'),\n",
    "    \n",
    "    ('q3', 'A'): ('q4', 'A', 'l'),\n",
    "    ('q3', '*'): ('q3', '*', 'r'),\n",
    "    \n",
    "    ('q4', '*'): ('q2', 'A', 'l'),\n",
    "    \n",
    "    ('q5', '*'): ('q5', '#', 'r')\n",
    "}"
   ]
  },
  {
   "cell_type": "markdown",
   "metadata": {},
   "source": [
    "## Event listeners"
   ]
  },
  {
   "cell_type": "code",
   "execution_count": 6,
   "metadata": {},
   "outputs": [],
   "source": [
    "line = None\n",
    "t = None\n",
    "is_final = False"
   ]
  },
  {
   "cell_type": "code",
   "execution_count": 7,
   "metadata": {},
   "outputs": [],
   "source": [
    "def on_gen_btn(d):\n",
    "    global line, t, is_final\n",
    "\n",
    "    is_final = False\n",
    "    line = gen_line(7)\n",
    "    t = TuringMachine(line, \n",
    "                      initial_state = 'q0',\n",
    "                      transition_function=transition_function)\n",
    "    line_out.value = t.get_tape()\n",
    "    current_out.value = ' '\n",
    "    finish_out.value = 'In progress'\n",
    "\n",
    "def on_step_btn(d):\n",
    "    global is_final\n",
    "    if not is_final:\n",
    "        is_final = t.step()\n",
    "        line_out.value = t.get_tape()\n",
    "    else:\n",
    "        finish_out.value = 'Finish'\n",
    "        \n",
    "def on_finish_btn(d):\n",
    "    global is_final\n",
    "    while not is_final:\n",
    "        is_final = t.step()\n",
    "    line_out.value = t.get_tape() \n",
    "    finish_out.value = 'Finish'"
   ]
  },
  {
   "cell_type": "code",
   "execution_count": 8,
   "metadata": {},
   "outputs": [],
   "source": [
    "gen_btn.on_click(on_gen_btn)\n",
    "step_btn.on_click(on_step_btn)\n",
    "finish_btn.on_click(on_finish_btn)\n",
    "on_gen_btn(None)"
   ]
  },
  {
   "cell_type": "markdown",
   "metadata": {},
   "source": [
    "## Final result"
   ]
  },
  {
   "cell_type": "markdown",
   "metadata": {},
   "source": [
    "### Simple"
   ]
  },
  {
   "cell_type": "code",
   "execution_count": 9,
   "metadata": {},
   "outputs": [
    {
     "data": {
      "application/vnd.jupyter.widget-view+json": {
       "model_id": "4f5781160f1f45deb6841a1aace59311",
       "version_major": 2,
       "version_minor": 0
      },
      "text/html": [
       "<p>Failed to display Jupyter Widget of type <code>Button</code>.</p>\n",
       "<p>\n",
       "  If you're reading this message in Jupyter Notebook or JupyterLab, it may mean\n",
       "  that the widgets JavaScript is still loading. If this message persists, it\n",
       "  likely means that the widgets JavaScript library is either not installed or\n",
       "  not enabled. See the <a href=\"https://ipywidgets.readthedocs.io/en/stable/user_install.html\">Jupyter\n",
       "  Widgets Documentation</a> for setup instructions.\n",
       "</p>\n",
       "<p>\n",
       "  If you're reading this message in another notebook frontend (for example, a static\n",
       "  rendering on GitHub or <a href=\"https://nbviewer.jupyter.org/\">NBViewer</a>),\n",
       "  it may mean that your frontend doesn't currently support widgets.\n",
       "</p>\n"
      ],
      "text/plain": [
       "Button(button_style='primary', description='Generate line', style=ButtonStyle())"
      ]
     },
     "metadata": {},
     "output_type": "display_data"
    },
    {
     "data": {
      "application/vnd.jupyter.widget-view+json": {
       "model_id": "21f5bb9b5ced42af801e353b84fc41ab",
       "version_major": 2,
       "version_minor": 0
      },
      "text/html": [
       "<p>Failed to display Jupyter Widget of type <code>Button</code>.</p>\n",
       "<p>\n",
       "  If you're reading this message in Jupyter Notebook or JupyterLab, it may mean\n",
       "  that the widgets JavaScript is still loading. If this message persists, it\n",
       "  likely means that the widgets JavaScript library is either not installed or\n",
       "  not enabled. See the <a href=\"https://ipywidgets.readthedocs.io/en/stable/user_install.html\">Jupyter\n",
       "  Widgets Documentation</a> for setup instructions.\n",
       "</p>\n",
       "<p>\n",
       "  If you're reading this message in another notebook frontend (for example, a static\n",
       "  rendering on GitHub or <a href=\"https://nbviewer.jupyter.org/\">NBViewer</a>),\n",
       "  it may mean that your frontend doesn't currently support widgets.\n",
       "</p>\n"
      ],
      "text/plain": [
       "Button(button_style='primary', description='Step', style=ButtonStyle())"
      ]
     },
     "metadata": {},
     "output_type": "display_data"
    },
    {
     "data": {
      "application/vnd.jupyter.widget-view+json": {
       "model_id": "92bf7a19f17d4151909128a65e0dabd9",
       "version_major": 2,
       "version_minor": 0
      },
      "text/html": [
       "<p>Failed to display Jupyter Widget of type <code>Button</code>.</p>\n",
       "<p>\n",
       "  If you're reading this message in Jupyter Notebook or JupyterLab, it may mean\n",
       "  that the widgets JavaScript is still loading. If this message persists, it\n",
       "  likely means that the widgets JavaScript library is either not installed or\n",
       "  not enabled. See the <a href=\"https://ipywidgets.readthedocs.io/en/stable/user_install.html\">Jupyter\n",
       "  Widgets Documentation</a> for setup instructions.\n",
       "</p>\n",
       "<p>\n",
       "  If you're reading this message in another notebook frontend (for example, a static\n",
       "  rendering on GitHub or <a href=\"https://nbviewer.jupyter.org/\">NBViewer</a>),\n",
       "  it may mean that your frontend doesn't currently support widgets.\n",
       "</p>\n"
      ],
      "text/plain": [
       "Button(button_style='danger', description='Step all', style=ButtonStyle())"
      ]
     },
     "metadata": {},
     "output_type": "display_data"
    }
   ],
   "source": [
    "display(gen_btn, step_btn, finish_btn)"
   ]
  },
  {
   "cell_type": "code",
   "execution_count": 10,
   "metadata": {},
   "outputs": [
    {
     "data": {
      "application/vnd.jupyter.widget-view+json": {
       "model_id": "cbab9fe6d02643d1af025ce3f3a0f3e6",
       "version_major": 2,
       "version_minor": 0
      },
      "text/html": [
       "<p>Failed to display Jupyter Widget of type <code>HTML</code>.</p>\n",
       "<p>\n",
       "  If you're reading this message in Jupyter Notebook or JupyterLab, it may mean\n",
       "  that the widgets JavaScript is still loading. If this message persists, it\n",
       "  likely means that the widgets JavaScript library is either not installed or\n",
       "  not enabled. See the <a href=\"https://ipywidgets.readthedocs.io/en/stable/user_install.html\">Jupyter\n",
       "  Widgets Documentation</a> for setup instructions.\n",
       "</p>\n",
       "<p>\n",
       "  If you're reading this message in another notebook frontend (for example, a static\n",
       "  rendering on GitHub or <a href=\"https://nbviewer.jupyter.org/\">NBViewer</a>),\n",
       "  it may mean that your frontend doesn't currently support widgets.\n",
       "</p>\n"
      ],
      "text/plain": [
       "HTML(value='#ABBBAAA#')"
      ]
     },
     "metadata": {},
     "output_type": "display_data"
    },
    {
     "data": {
      "application/vnd.jupyter.widget-view+json": {
       "model_id": "4b3cc7e300a442e08faf0b771decee7e",
       "version_major": 2,
       "version_minor": 0
      },
      "text/html": [
       "<p>Failed to display Jupyter Widget of type <code>HTML</code>.</p>\n",
       "<p>\n",
       "  If you're reading this message in Jupyter Notebook or JupyterLab, it may mean\n",
       "  that the widgets JavaScript is still loading. If this message persists, it\n",
       "  likely means that the widgets JavaScript library is either not installed or\n",
       "  not enabled. See the <a href=\"https://ipywidgets.readthedocs.io/en/stable/user_install.html\">Jupyter\n",
       "  Widgets Documentation</a> for setup instructions.\n",
       "</p>\n",
       "<p>\n",
       "  If you're reading this message in another notebook frontend (for example, a static\n",
       "  rendering on GitHub or <a href=\"https://nbviewer.jupyter.org/\">NBViewer</a>),\n",
       "  it may mean that your frontend doesn't currently support widgets.\n",
       "</p>\n"
      ],
      "text/plain": [
       "HTML(value=' ')"
      ]
     },
     "metadata": {},
     "output_type": "display_data"
    },
    {
     "data": {
      "application/vnd.jupyter.widget-view+json": {
       "model_id": "5999c06a8f5f49d285d99a228c86fc7d",
       "version_major": 2,
       "version_minor": 0
      },
      "text/html": [
       "<p>Failed to display Jupyter Widget of type <code>HTML</code>.</p>\n",
       "<p>\n",
       "  If you're reading this message in Jupyter Notebook or JupyterLab, it may mean\n",
       "  that the widgets JavaScript is still loading. If this message persists, it\n",
       "  likely means that the widgets JavaScript library is either not installed or\n",
       "  not enabled. See the <a href=\"https://ipywidgets.readthedocs.io/en/stable/user_install.html\">Jupyter\n",
       "  Widgets Documentation</a> for setup instructions.\n",
       "</p>\n",
       "<p>\n",
       "  If you're reading this message in another notebook frontend (for example, a static\n",
       "  rendering on GitHub or <a href=\"https://nbviewer.jupyter.org/\">NBViewer</a>),\n",
       "  it may mean that your frontend doesn't currently support widgets.\n",
       "</p>\n"
      ],
      "text/plain": [
       "HTML(value='In progress')"
      ]
     },
     "metadata": {},
     "output_type": "display_data"
    }
   ],
   "source": [
    "display(line_out)\n",
    "display(current_out)\n",
    "display(finish_out)"
   ]
  },
  {
   "cell_type": "markdown",
   "metadata": {},
   "source": [
    "### A more advanced"
   ]
  },
  {
   "cell_type": "code",
   "execution_count": 11,
   "metadata": {},
   "outputs": [],
   "source": [
    "from ipywidgets import Layout, Box, Label"
   ]
  },
  {
   "cell_type": "code",
   "execution_count": 12,
   "metadata": {},
   "outputs": [],
   "source": [
    "form_item_layout = Layout(\n",
    "    display='flex',\n",
    "    flex_flow='row',\n",
    "    justify_content='space-between'\n",
    ")\n",
    "\n",
    "form_items = [\n",
    "    Box([Label(value='Current line value'), line_out], layout=form_item_layout),\n",
    "    Box([Label(value='Current transition'), current_out], layout=form_item_layout),\n",
    "    Box([Label(value='Finish status'), finish_out], layout=form_item_layout),\n",
    "    Box([gen_btn, step_btn, finish_btn], layout=form_item_layout)\n",
    "]\n",
    "\n",
    "form = Box(form_items, layout=Layout(\n",
    "    display='flex',\n",
    "    flex_flow='column',\n",
    "    border='solid 2px',\n",
    "    align_items='stretch',\n",
    "    width='50%'\n",
    "))"
   ]
  },
  {
   "cell_type": "code",
   "execution_count": 13,
   "metadata": {},
   "outputs": [],
   "source": [
    "on_gen_btn(None)"
   ]
  },
  {
   "cell_type": "code",
   "execution_count": 14,
   "metadata": {},
   "outputs": [
    {
     "data": {
      "application/vnd.jupyter.widget-view+json": {
       "model_id": "191ee47dd6e14a8da4600bd30583edf5",
       "version_major": 2,
       "version_minor": 0
      },
      "text/html": [
       "<p>Failed to display Jupyter Widget of type <code>Box</code>.</p>\n",
       "<p>\n",
       "  If you're reading this message in Jupyter Notebook or JupyterLab, it may mean\n",
       "  that the widgets JavaScript is still loading. If this message persists, it\n",
       "  likely means that the widgets JavaScript library is either not installed or\n",
       "  not enabled. See the <a href=\"https://ipywidgets.readthedocs.io/en/stable/user_install.html\">Jupyter\n",
       "  Widgets Documentation</a> for setup instructions.\n",
       "</p>\n",
       "<p>\n",
       "  If you're reading this message in another notebook frontend (for example, a static\n",
       "  rendering on GitHub or <a href=\"https://nbviewer.jupyter.org/\">NBViewer</a>),\n",
       "  it may mean that your frontend doesn't currently support widgets.\n",
       "</p>\n"
      ],
      "text/plain": [
       "Box(children=(Box(children=(Label(value='Current line value'), HTML(value='#BBBBAAA#')), layout=Layout(display='flex', flex_flow='row', justify_content='space-between')), Box(children=(Label(value='Current transition'), HTML(value=' ')), layout=Layout(display='flex', flex_flow='row', justify_content='space-between')), Box(children=(Label(value='Finish status'), HTML(value='In progress')), layout=Layout(display='flex', flex_flow='row', justify_content='space-between')), Box(children=(Button(button_style='primary', description='Generate line', style=ButtonStyle()), Button(button_style='primary', description='Step', style=ButtonStyle()), Button(button_style='danger', description='Step all', style=ButtonStyle())), layout=Layout(display='flex', flex_flow='row', justify_content='space-between'))), layout=Layout(align_items='stretch', border='solid 2px', display='flex', flex_flow='column', width='50%'))"
      ]
     },
     "metadata": {},
     "output_type": "display_data"
    }
   ],
   "source": [
    "form"
   ]
  },
  {
   "cell_type": "code",
   "execution_count": null,
   "metadata": {},
   "outputs": [],
   "source": []
  }
 ],
 "metadata": {
  "kernelspec": {
   "display_name": "Python 3",
   "language": "python",
   "name": "python3"
  },
  "language_info": {
   "codemirror_mode": {
    "name": "ipython",
    "version": 3
   },
   "file_extension": ".py",
   "mimetype": "text/x-python",
   "name": "python",
   "nbconvert_exporter": "python",
   "pygments_lexer": "ipython3",
   "version": "3.5.1"
  },
  "toc": {
   "colors": {
    "hover_highlight": "#DAA520",
    "navigate_num": "#000000",
    "navigate_text": "#333333",
    "running_highlight": "#FF0000",
    "selected_highlight": "#FFD700",
    "sidebar_border": "#EEEEEE",
    "wrapper_background": "#FFFFFF"
   },
   "moveMenuLeft": true,
   "nav_menu": {
    "height": "12px",
    "width": "252px"
   },
   "navigate_menu": true,
   "number_sections": true,
   "sideBar": true,
   "threshold": 4,
   "toc_cell": false,
   "toc_section_display": "block",
   "toc_window_display": false,
   "widenNotebook": false
  },
  "widgets": {
   "state": {
    "3e0ca633c69e4293942d9157b200a70c": {
     "views": [
      {
       "cell_index": 6
      }
     ]
    },
    "7971ba87ed824af1a04ecab6dd22a324": {
     "views": [
      {
       "cell_index": 4
      }
     ]
    },
    "daec1cc252cd467b9abd6847a102f93b": {
     "views": [
      {
       "cell_index": 9
      }
     ]
    }
   },
   "version": "1.2.0"
  }
 },
 "nbformat": 4,
 "nbformat_minor": 2
}
