{
 "cells": [
  {
   "cell_type": "code",
   "execution_count": 1,
   "metadata": {
    "ExecuteTime": {
     "end_time": "2017-10-03T13:05:32.051227Z",
     "start_time": "2017-10-03T13:05:32.032129Z"
    }
   },
   "outputs": [],
   "source": [
    "import ipywidgets as widgets\n",
    "from ipywidgets import interact\n",
    "from IPython.display import display\n",
    "import random"
   ]
  },
  {
   "cell_type": "markdown",
   "metadata": {},
   "source": [
    "## Widgets initialization"
   ]
  },
  {
   "cell_type": "code",
   "execution_count": 2,
   "metadata": {},
   "outputs": [],
   "source": [
    "line_out = widgets.HTML()\n",
    "current_out = widgets.HTML()\n",
    "finish_out = widgets.HTML()\n",
    "\n",
    "step_btn = widgets.Button(description='Step', button_style='primary')\n",
    "gen_btn = widgets.Button(description='Generate line', button_style='primary')\n",
    "finish_btn = widgets.Button(description='Step all', button_style='danger')\n",
    "slider = widgets.IntSlider(min=3, max=10, step=1, value=5, description='Length')"
   ]
  },
  {
   "cell_type": "markdown",
   "metadata": {},
   "source": [
    "## TuringMachine class"
   ]
  },
  {
   "cell_type": "code",
   "execution_count": 3,
   "metadata": {},
   "outputs": [],
   "source": [
    "class Tape(object):\n",
    "    blank_symbol = \"#\"\n",
    "    \n",
    "    def __init__(self, tape_string = \"\"):\n",
    "        self.__tape = dict((enumerate(tape_string)))\n",
    "        \n",
    "    def __str__(self):\n",
    "        s = \"\"\n",
    "        min_used_index = min(self.__tape.keys()) \n",
    "        max_used_index = max(self.__tape.keys())\n",
    "        for i in range(min_used_index, max_used_index + 1):\n",
    "            s += self.__tape[i]\n",
    "        return s    \n",
    "   \n",
    "    def __getitem__(self,index):\n",
    "        if index in self.__tape:\n",
    "            return self.__tape[index]\n",
    "        else:\n",
    "            return Tape.blank_symbol\n",
    "\n",
    "    def __setitem__(self, pos, char):\n",
    "        self.__tape[pos] = char \n",
    "\n",
    "        \n",
    "class TuringMachine(object):\n",
    "    \n",
    "    def __init__(self, \n",
    "                 tape = \"\", \n",
    "                 blank_symbol = \"#\",\n",
    "                 initial_state = \"\",\n",
    "                 transition_function = None):\n",
    "        self.__tape = Tape(tape)\n",
    "        self.__head_position = 1\n",
    "        self.__blank_symbol = blank_symbol\n",
    "        self.__current_state = initial_state\n",
    "        if transition_function == None:\n",
    "            self.__transition_function = {}\n",
    "        else:\n",
    "            self.__transition_function = transition_function\n",
    "        \n",
    "    def get_tape(self): \n",
    "        return str(self.__tape)\n",
    "    \n",
    "    def step(self):\n",
    "        char_under_head = self.__tape[self.__head_position]\n",
    "        x = (self.__current_state, char_under_head)\n",
    "        if x in self.__transition_function:\n",
    "            y = self.__transition_function[x]\n",
    "            self.__tape[self.__head_position] = y[1]\n",
    "            if y[2] == \"r\":\n",
    "                self.__head_position += 1\n",
    "            elif y[2] == \"l\":\n",
    "                self.__head_position -= 1\n",
    "            self.__current_state = y[0]\n",
    "            current_out.value = x[0] + ' ' + x[1] + ' -> ' + y[0] + ' ' + y[1] + ' ' + y[2]\n",
    "            return False\n",
    "        else:\n",
    "            return True"
   ]
  },
  {
   "cell_type": "markdown",
   "metadata": {},
   "source": [
    "## Example problem"
   ]
  },
  {
   "cell_type": "code",
   "execution_count": 4,
   "metadata": {},
   "outputs": [],
   "source": [
    "def gen_line(length=7):\n",
    "    line = [random.choice('AB') for i in range(length)]\n",
    "    return ''.join(['#'] + line + ['#'])"
   ]
  },
  {
   "cell_type": "code",
   "execution_count": 5,
   "metadata": {},
   "outputs": [],
   "source": [
    "transition_function = {\n",
    "    ('q0', 'A'): ('q0', 'A', 'r'),\n",
    "    ('q0', 'B'): ('q0', '*', 'r'),\n",
    "    ('q0', '*'): ('q0', '*', 'r'),\n",
    "    ('q0', '#'): ('q1', '#', 'l'),\n",
    "    \n",
    "    ('q1', 'A'): ('q2', 'A', 'l'),\n",
    "    ('q1', '*'): ('q1', '#', 'l'),\n",
    "    ('q1', '#'): ('q1', '#', 'r'),\n",
    "    \n",
    "    ('q2', 'A'): ('q3', '*', 'r'),\n",
    "    ('q2', '*'): ('q2', '*', 'l'),\n",
    "    ('q2', '#'): ('q5', '#', 'r'),\n",
    "    \n",
    "    ('q3', 'A'): ('q4', 'A', 'l'),\n",
    "    ('q3', '*'): ('q3', '*', 'r'),\n",
    "    \n",
    "    ('q4', '*'): ('q2', 'A', 'l'),\n",
    "    \n",
    "    ('q5', '*'): ('q5', '#', 'r')\n",
    "}"
   ]
  },
  {
   "cell_type": "markdown",
   "metadata": {},
   "source": [
    "## Event listeners"
   ]
  },
  {
   "cell_type": "code",
   "execution_count": 6,
   "metadata": {},
   "outputs": [],
   "source": [
    "line = None\n",
    "tm = None\n",
    "is_final = False\n",
    "tape_length = 5"
   ]
  },
  {
   "cell_type": "code",
   "execution_count": 7,
   "metadata": {},
   "outputs": [],
   "source": [
    "def on_gen_btn(d):\n",
    "    global line, tm, is_final\n",
    "\n",
    "    is_final = False\n",
    "    line = gen_line(tape_length)\n",
    "    tm = TuringMachine(line, \n",
    "                      initial_state = 'q0',\n",
    "                      transition_function=transition_function)\n",
    "    line_out.value = tm.get_tape()\n",
    "    current_out.value = ' '\n",
    "    finish_out.value = 'In progress'\n",
    "\n",
    "def on_step_btn(d):\n",
    "    global is_final\n",
    "    if not is_final:\n",
    "        is_final = tm.step()\n",
    "        line_out.value = tm.get_tape()\n",
    "    else:\n",
    "        finish_out.value = 'Finish'\n",
    "        \n",
    "def on_finish_btn(d):\n",
    "    global is_final\n",
    "    while not is_final:\n",
    "        is_final = tm.step()\n",
    "    line_out.value = tm.get_tape() \n",
    "    finish_out.value = 'Finish'\n",
    "\n",
    "def on_interact(x):\n",
    "    global tape_length\n",
    "    # If property exist\n",
    "    try:\n",
    "        tape_length = int(x['new']['value'])\n",
    "    except:\n",
    "        pass"
   ]
  },
  {
   "cell_type": "code",
   "execution_count": 8,
   "metadata": {},
   "outputs": [],
   "source": [
    "gen_btn.on_click(on_gen_btn)\n",
    "step_btn.on_click(on_step_btn)\n",
    "finish_btn.on_click(on_finish_btn)\n",
    "slider.observe(on_interact)\n",
    "on_gen_btn(None)"
   ]
  },
  {
   "cell_type": "markdown",
   "metadata": {},
   "source": [
    "## Final result"
   ]
  },
  {
   "cell_type": "markdown",
   "metadata": {},
   "source": [
    "### Simple"
   ]
  },
  {
   "cell_type": "code",
   "execution_count": 9,
   "metadata": {},
   "outputs": [
    {
     "data": {
      "application/vnd.jupyter.widget-view+json": {
       "model_id": "46c2de3651bb47f2a3abac18baa815e4",
       "version_major": 2,
       "version_minor": 0
      },
      "text/html": [
       "<p>Failed to display Jupyter Widget of type <code>Button</code>.</p>\n",
       "<p>\n",
       "  If you're reading this message in Jupyter Notebook or JupyterLab, it may mean\n",
       "  that the widgets JavaScript is still loading. If this message persists, it\n",
       "  likely means that the widgets JavaScript library is either not installed or\n",
       "  not enabled. See the <a href=\"https://ipywidgets.readthedocs.io/en/stable/user_install.html\">Jupyter\n",
       "  Widgets Documentation</a> for setup instructions.\n",
       "</p>\n",
       "<p>\n",
       "  If you're reading this message in another notebook frontend (for example, a static\n",
       "  rendering on GitHub or <a href=\"https://nbviewer.jupyter.org/\">NBViewer</a>),\n",
       "  it may mean that your frontend doesn't currently support widgets.\n",
       "</p>\n"
      ],
      "text/plain": [
       "Button(button_style='primary', description='Generate line', style=ButtonStyle())"
      ]
     },
     "metadata": {},
     "output_type": "display_data"
    },
    {
     "data": {
      "application/vnd.jupyter.widget-view+json": {
       "model_id": "199b1649042141c1a7b08781be36d467",
       "version_major": 2,
       "version_minor": 0
      },
      "text/html": [
       "<p>Failed to display Jupyter Widget of type <code>Button</code>.</p>\n",
       "<p>\n",
       "  If you're reading this message in Jupyter Notebook or JupyterLab, it may mean\n",
       "  that the widgets JavaScript is still loading. If this message persists, it\n",
       "  likely means that the widgets JavaScript library is either not installed or\n",
       "  not enabled. See the <a href=\"https://ipywidgets.readthedocs.io/en/stable/user_install.html\">Jupyter\n",
       "  Widgets Documentation</a> for setup instructions.\n",
       "</p>\n",
       "<p>\n",
       "  If you're reading this message in another notebook frontend (for example, a static\n",
       "  rendering on GitHub or <a href=\"https://nbviewer.jupyter.org/\">NBViewer</a>),\n",
       "  it may mean that your frontend doesn't currently support widgets.\n",
       "</p>\n"
      ],
      "text/plain": [
       "Button(button_style='primary', description='Step', style=ButtonStyle())"
      ]
     },
     "metadata": {},
     "output_type": "display_data"
    },
    {
     "data": {
      "application/vnd.jupyter.widget-view+json": {
       "model_id": "843a5b81047f4540a146ea0dfda1e1a3",
       "version_major": 2,
       "version_minor": 0
      },
      "text/html": [
       "<p>Failed to display Jupyter Widget of type <code>Button</code>.</p>\n",
       "<p>\n",
       "  If you're reading this message in Jupyter Notebook or JupyterLab, it may mean\n",
       "  that the widgets JavaScript is still loading. If this message persists, it\n",
       "  likely means that the widgets JavaScript library is either not installed or\n",
       "  not enabled. See the <a href=\"https://ipywidgets.readthedocs.io/en/stable/user_install.html\">Jupyter\n",
       "  Widgets Documentation</a> for setup instructions.\n",
       "</p>\n",
       "<p>\n",
       "  If you're reading this message in another notebook frontend (for example, a static\n",
       "  rendering on GitHub or <a href=\"https://nbviewer.jupyter.org/\">NBViewer</a>),\n",
       "  it may mean that your frontend doesn't currently support widgets.\n",
       "</p>\n"
      ],
      "text/plain": [
       "Button(button_style='danger', description='Step all', style=ButtonStyle())"
      ]
     },
     "metadata": {},
     "output_type": "display_data"
    },
    {
     "data": {
      "application/vnd.jupyter.widget-view+json": {
       "model_id": "2346993e10de41219a404b8fb9881883",
       "version_major": 2,
       "version_minor": 0
      },
      "text/html": [
       "<p>Failed to display Jupyter Widget of type <code>IntSlider</code>.</p>\n",
       "<p>\n",
       "  If you're reading this message in Jupyter Notebook or JupyterLab, it may mean\n",
       "  that the widgets JavaScript is still loading. If this message persists, it\n",
       "  likely means that the widgets JavaScript library is either not installed or\n",
       "  not enabled. See the <a href=\"https://ipywidgets.readthedocs.io/en/stable/user_install.html\">Jupyter\n",
       "  Widgets Documentation</a> for setup instructions.\n",
       "</p>\n",
       "<p>\n",
       "  If you're reading this message in another notebook frontend (for example, a static\n",
       "  rendering on GitHub or <a href=\"https://nbviewer.jupyter.org/\">NBViewer</a>),\n",
       "  it may mean that your frontend doesn't currently support widgets.\n",
       "</p>\n"
      ],
      "text/plain": [
       "IntSlider(value=5, description='Length', max=10, min=3)"
      ]
     },
     "metadata": {},
     "output_type": "display_data"
    }
   ],
   "source": [
    "display(gen_btn, step_btn, finish_btn, slider)"
   ]
  },
  {
   "cell_type": "code",
   "execution_count": 10,
   "metadata": {},
   "outputs": [
    {
     "data": {
      "application/vnd.jupyter.widget-view+json": {
       "model_id": "b45d19360f7d4c33944bcb711d3cf699",
       "version_major": 2,
       "version_minor": 0
      },
      "text/html": [
       "<p>Failed to display Jupyter Widget of type <code>HTML</code>.</p>\n",
       "<p>\n",
       "  If you're reading this message in Jupyter Notebook or JupyterLab, it may mean\n",
       "  that the widgets JavaScript is still loading. If this message persists, it\n",
       "  likely means that the widgets JavaScript library is either not installed or\n",
       "  not enabled. See the <a href=\"https://ipywidgets.readthedocs.io/en/stable/user_install.html\">Jupyter\n",
       "  Widgets Documentation</a> for setup instructions.\n",
       "</p>\n",
       "<p>\n",
       "  If you're reading this message in another notebook frontend (for example, a static\n",
       "  rendering on GitHub or <a href=\"https://nbviewer.jupyter.org/\">NBViewer</a>),\n",
       "  it may mean that your frontend doesn't currently support widgets.\n",
       "</p>\n"
      ],
      "text/plain": [
       "HTML(value='##AAA##')"
      ]
     },
     "metadata": {},
     "output_type": "display_data"
    },
    {
     "data": {
      "application/vnd.jupyter.widget-view+json": {
       "model_id": "06253b60c85544d484d98ab708ea1839",
       "version_major": 2,
       "version_minor": 0
      },
      "text/html": [
       "<p>Failed to display Jupyter Widget of type <code>HTML</code>.</p>\n",
       "<p>\n",
       "  If you're reading this message in Jupyter Notebook or JupyterLab, it may mean\n",
       "  that the widgets JavaScript is still loading. If this message persists, it\n",
       "  likely means that the widgets JavaScript library is either not installed or\n",
       "  not enabled. See the <a href=\"https://ipywidgets.readthedocs.io/en/stable/user_install.html\">Jupyter\n",
       "  Widgets Documentation</a> for setup instructions.\n",
       "</p>\n",
       "<p>\n",
       "  If you're reading this message in another notebook frontend (for example, a static\n",
       "  rendering on GitHub or <a href=\"https://nbviewer.jupyter.org/\">NBViewer</a>),\n",
       "  it may mean that your frontend doesn't currently support widgets.\n",
       "</p>\n"
      ],
      "text/plain": [
       "HTML(value='q5 * -> q5 # r')"
      ]
     },
     "metadata": {},
     "output_type": "display_data"
    },
    {
     "data": {
      "application/vnd.jupyter.widget-view+json": {
       "model_id": "ec2428253d024480b0dfb09e0ae14507",
       "version_major": 2,
       "version_minor": 0
      },
      "text/html": [
       "<p>Failed to display Jupyter Widget of type <code>HTML</code>.</p>\n",
       "<p>\n",
       "  If you're reading this message in Jupyter Notebook or JupyterLab, it may mean\n",
       "  that the widgets JavaScript is still loading. If this message persists, it\n",
       "  likely means that the widgets JavaScript library is either not installed or\n",
       "  not enabled. See the <a href=\"https://ipywidgets.readthedocs.io/en/stable/user_install.html\">Jupyter\n",
       "  Widgets Documentation</a> for setup instructions.\n",
       "</p>\n",
       "<p>\n",
       "  If you're reading this message in another notebook frontend (for example, a static\n",
       "  rendering on GitHub or <a href=\"https://nbviewer.jupyter.org/\">NBViewer</a>),\n",
       "  it may mean that your frontend doesn't currently support widgets.\n",
       "</p>\n"
      ],
      "text/plain": [
       "HTML(value='Finish')"
      ]
     },
     "metadata": {},
     "output_type": "display_data"
    }
   ],
   "source": [
    "display(line_out)\n",
    "display(current_out)\n",
    "display(finish_out)"
   ]
  },
  {
   "cell_type": "markdown",
   "metadata": {},
   "source": [
    "### A more advanced"
   ]
  },
  {
   "cell_type": "code",
   "execution_count": 11,
   "metadata": {},
   "outputs": [],
   "source": [
    "from ipywidgets import Layout, Box, Label"
   ]
  },
  {
   "cell_type": "code",
   "execution_count": 12,
   "metadata": {},
   "outputs": [],
   "source": [
    "form_item_layout = Layout(\n",
    "    display='flex',\n",
    "    flex_flow='row',\n",
    "    justify_content='space-between'\n",
    ")\n",
    "\n",
    "form_items = [\n",
    "    Box([Label(value='Current line value'), line_out], layout=form_item_layout),\n",
    "    Box([Label(value='Current transition'), current_out], layout=form_item_layout),\n",
    "    Box([Label(value='Finish status'), finish_out], layout=form_item_layout),\n",
    "    Box([Label(value='Tape length'), slider], layout=form_item_layout),\n",
    "    Box([gen_btn, step_btn, finish_btn], layout=form_item_layout)\n",
    "]\n",
    "\n",
    "form = Box(form_items, layout=Layout(\n",
    "    display='flex',\n",
    "    flex_flow='column',\n",
    "    border='solid 2px',\n",
    "    align_items='stretch',\n",
    "    width='80%'\n",
    "))"
   ]
  },
  {
   "cell_type": "code",
   "execution_count": 13,
   "metadata": {},
   "outputs": [],
   "source": [
    "on_gen_btn(None)"
   ]
  },
  {
   "cell_type": "code",
   "execution_count": 14,
   "metadata": {},
   "outputs": [
    {
     "data": {
      "application/vnd.jupyter.widget-view+json": {
       "model_id": "2ad7f0cc217443c4ac0eb64633a61225",
       "version_major": 2,
       "version_minor": 0
      },
      "text/html": [
       "<p>Failed to display Jupyter Widget of type <code>Box</code>.</p>\n",
       "<p>\n",
       "  If you're reading this message in Jupyter Notebook or JupyterLab, it may mean\n",
       "  that the widgets JavaScript is still loading. If this message persists, it\n",
       "  likely means that the widgets JavaScript library is either not installed or\n",
       "  not enabled. See the <a href=\"https://ipywidgets.readthedocs.io/en/stable/user_install.html\">Jupyter\n",
       "  Widgets Documentation</a> for setup instructions.\n",
       "</p>\n",
       "<p>\n",
       "  If you're reading this message in another notebook frontend (for example, a static\n",
       "  rendering on GitHub or <a href=\"https://nbviewer.jupyter.org/\">NBViewer</a>),\n",
       "  it may mean that your frontend doesn't currently support widgets.\n",
       "</p>\n"
      ],
      "text/plain": [
       "Box(children=(Box(children=(Label(value='Current line value'), HTML(value='#AABBB#')), layout=Layout(display='flex', flex_flow='row', justify_content='space-between')), Box(children=(Label(value='Current transition'), HTML(value=' ')), layout=Layout(display='flex', flex_flow='row', justify_content='space-between')), Box(children=(Label(value='Finish status'), HTML(value='In progress')), layout=Layout(display='flex', flex_flow='row', justify_content='space-between')), Box(children=(Label(value='Tape length'), IntSlider(value=5, description='Length', max=10, min=3)), layout=Layout(display='flex', flex_flow='row', justify_content='space-between')), Box(children=(Button(button_style='primary', description='Generate line', style=ButtonStyle()), Button(button_style='primary', description='Step', style=ButtonStyle()), Button(button_style='danger', description='Step all', style=ButtonStyle())), layout=Layout(display='flex', flex_flow='row', justify_content='space-between'))), layout=Layout(align_items='stretch', border='solid 2px', display='flex', flex_flow='column', width='80%'))"
      ]
     },
     "metadata": {},
     "output_type": "display_data"
    }
   ],
   "source": [
    "form"
   ]
  },
  {
   "cell_type": "code",
   "execution_count": null,
   "metadata": {},
   "outputs": [],
   "source": []
  }
 ],
 "metadata": {
  "kernelspec": {
   "display_name": "Python 3",
   "language": "python",
   "name": "python3"
  },
  "language_info": {
   "codemirror_mode": {
    "name": "ipython",
    "version": 3
   },
   "file_extension": ".py",
   "mimetype": "text/x-python",
   "name": "python",
   "nbconvert_exporter": "python",
   "pygments_lexer": "ipython3",
   "version": "3.5.1"
  },
  "toc": {
   "colors": {
    "hover_highlight": "#DAA520",
    "navigate_num": "#000000",
    "navigate_text": "#333333",
    "running_highlight": "#FF0000",
    "selected_highlight": "#FFD700",
    "sidebar_border": "#EEEEEE",
    "wrapper_background": "#FFFFFF"
   },
   "moveMenuLeft": true,
   "nav_menu": {
    "height": "12px",
    "width": "252px"
   },
   "navigate_menu": true,
   "number_sections": true,
   "sideBar": true,
   "threshold": 4,
   "toc_cell": false,
   "toc_section_display": "block",
   "toc_window_display": false,
   "widenNotebook": false
  },
  "widgets": {
   "application/vnd.jupyter.widget-state+json": {
    "state": {
     "00762ebc9da24c6c97196060b28ae4b4": {
      "model_module": "@jupyter-widgets/controls",
      "model_module_version": "1.0.0",
      "model_name": "ButtonModel",
      "state": {
       "button_style": "primary",
       "description": "Step",
       "layout": "IPY_MODEL_9d7fddf8370e45269a9fd75fa4103d30",
       "style": "IPY_MODEL_997b74bf4dc34dae9a76a2f4e694afce"
      }
     },
     "01480352ef0c44d29a0aabba0a263d3b": {
      "model_module": "@jupyter-widgets/controls",
      "model_module_version": "1.0.0",
      "model_name": "ButtonStyleModel",
      "state": {}
     },
     "025e5302f8e14f05bf644e3230774e32": {
      "model_module": "@jupyter-widgets/controls",
      "model_module_version": "1.0.0",
      "model_name": "LabelModel",
      "state": {
       "layout": "IPY_MODEL_f3c282e8af384eda8e07608233617716",
       "style": "IPY_MODEL_07f9041da30c4ff6a5c123633fdc70a3",
       "value": "Current line value"
      }
     },
     "0393892153804cfaa195e49972550519": {
      "model_module": "@jupyter-widgets/base",
      "model_module_version": "1.0.0",
      "model_name": "LayoutModel",
      "state": {}
     },
     "06253b60c85544d484d98ab708ea1839": {
      "model_module": "@jupyter-widgets/controls",
      "model_module_version": "1.0.0",
      "model_name": "HTMLModel",
      "state": {
       "layout": "IPY_MODEL_e2c9e912d0744b2da0449d7b264ced0c",
       "style": "IPY_MODEL_bd5ca63b77984beeb0bf2712bd912ab5",
       "value": "q0 A -> q0 A r"
      }
     },
     "07f9041da30c4ff6a5c123633fdc70a3": {
      "model_module": "@jupyter-widgets/controls",
      "model_module_version": "1.0.0",
      "model_name": "DescriptionStyleModel",
      "state": {
       "description_width": ""
      }
     },
     "08dc491773094dda84776a1bc4966cf1": {
      "model_module": "@jupyter-widgets/base",
      "model_module_version": "1.0.0",
      "model_name": "LayoutModel",
      "state": {}
     },
     "09fa132df2a943a886283d2d931163f7": {
      "model_module": "@jupyter-widgets/controls",
      "model_module_version": "1.0.0",
      "model_name": "VBoxModel",
      "state": {
       "_dom_classes": [
        "widget-interact"
       ],
       "children": [
        "IPY_MODEL_dfb2f07c38d04e84952766ddb5e5190a",
        "IPY_MODEL_584d5a9a711e46b9881c53f271b9213a"
       ],
       "layout": "IPY_MODEL_08dc491773094dda84776a1bc4966cf1"
      }
     },
     "1072355242534a71af840b04929092df": {
      "model_module": "@jupyter-widgets/controls",
      "model_module_version": "1.0.0",
      "model_name": "IntSliderModel",
      "state": {
       "description": "x",
       "layout": "IPY_MODEL_ec43c56549334344aeefd9b915db4d6e",
       "max": 5,
       "style": "IPY_MODEL_70e9bef5f27a449a884aa984a3487b5b",
       "value": 1
      }
     },
     "127bbaf07149460dbcbc04022cee0590": {
      "model_module": "@jupyter-widgets/base",
      "model_module_version": "1.0.0",
      "model_name": "LayoutModel",
      "state": {}
     },
     "141d2e210b0b46e086ff5f5440117f07": {
      "model_module": "@jupyter-widgets/base",
      "model_module_version": "1.0.0",
      "model_name": "LayoutModel",
      "state": {}
     },
     "148cc692221645a4941bf1c5c11ccf66": {
      "model_module": "@jupyter-widgets/controls",
      "model_module_version": "1.0.0",
      "model_name": "DescriptionStyleModel",
      "state": {
       "description_width": ""
      }
     },
     "164eff79494d4f17a961e5768cb8040b": {
      "model_module": "@jupyter-widgets/base",
      "model_module_version": "1.0.0",
      "model_name": "LayoutModel",
      "state": {}
     },
     "16db6903e58046628a8289f8523f6562": {
      "model_module": "@jupyter-widgets/base",
      "model_module_version": "1.0.0",
      "model_name": "LayoutModel",
      "state": {
       "display": "flex",
       "flex_flow": "row",
       "justify_content": "space-between"
      }
     },
     "1721a6db207342098133046bd54753e3": {
      "model_module": "@jupyter-widgets/base",
      "model_module_version": "1.0.0",
      "model_name": "LayoutModel",
      "state": {}
     },
     "178c8d9c2e7943efa03661026a1502ac": {
      "model_module": "@jupyter-widgets/controls",
      "model_module_version": "1.0.0",
      "model_name": "DescriptionStyleModel",
      "state": {
       "description_width": ""
      }
     },
     "199b1649042141c1a7b08781be36d467": {
      "model_module": "@jupyter-widgets/controls",
      "model_module_version": "1.0.0",
      "model_name": "ButtonModel",
      "state": {
       "button_style": "primary",
       "description": "Step",
       "layout": "IPY_MODEL_0393892153804cfaa195e49972550519",
       "style": "IPY_MODEL_dcb89622d3d44029a032d2b5e9be148a"
      }
     },
     "2346993e10de41219a404b8fb9881883": {
      "model_module": "@jupyter-widgets/controls",
      "model_module_version": "1.0.0",
      "model_name": "IntSliderModel",
      "state": {
       "description": "Length",
       "layout": "IPY_MODEL_28c84a9e77164400aa784803fef5fe68",
       "max": 10,
       "min": 3,
       "style": "IPY_MODEL_5e6fdb9aa08d48708ffaa699a94e7198",
       "value": 10
      }
     },
     "23f862e9a2de4e2791aa32230f117098": {
      "model_module": "@jupyter-widgets/base",
      "model_module_version": "1.0.0",
      "model_name": "LayoutModel",
      "state": {}
     },
     "254afcb9d7e64b16bae459b23e6d8528": {
      "model_module": "@jupyter-widgets/controls",
      "model_module_version": "1.0.0",
      "model_name": "DescriptionStyleModel",
      "state": {
       "description_width": ""
      }
     },
     "28c6281071b8428d9af106d80dadcf0f": {
      "model_module": "@jupyter-widgets/controls",
      "model_module_version": "1.0.0",
      "model_name": "DescriptionStyleModel",
      "state": {
       "description_width": ""
      }
     },
     "28c84a9e77164400aa784803fef5fe68": {
      "model_module": "@jupyter-widgets/base",
      "model_module_version": "1.0.0",
      "model_name": "LayoutModel",
      "state": {}
     },
     "292b776a7ffc41d18f87fdafae5acf9f": {
      "model_module": "@jupyter-widgets/controls",
      "model_module_version": "1.0.0",
      "model_name": "ButtonStyleModel",
      "state": {}
     },
     "2ad7f0cc217443c4ac0eb64633a61225": {
      "model_module": "@jupyter-widgets/controls",
      "model_module_version": "1.0.0",
      "model_name": "BoxModel",
      "state": {
       "children": [
        "IPY_MODEL_eacb4ae040c0499a9f720c12b694f3d4",
        "IPY_MODEL_c16ba0f5e5da4fb589a48797b071e60b",
        "IPY_MODEL_2f65b746dffd4140887d9720351cfd28",
        "IPY_MODEL_a2d3c2d024054138ae28401faefdafee",
        "IPY_MODEL_fea65b1e8a6f4084958ef1b53331fe85"
       ],
       "layout": "IPY_MODEL_efafb979a27e4ea09b8f25dbb31e8d58"
      }
     },
     "2ce7cb1801f24940853b9e388b518437": {
      "model_module": "@jupyter-widgets/base",
      "model_module_version": "1.0.0",
      "model_name": "LayoutModel",
      "state": {}
     },
     "2d88f812b9ee4ec8baae4a9e58aacdb4": {
      "model_module": "@jupyter-widgets/controls",
      "model_module_version": "1.0.0",
      "model_name": "DescriptionStyleModel",
      "state": {
       "description_width": ""
      }
     },
     "2f65b746dffd4140887d9720351cfd28": {
      "model_module": "@jupyter-widgets/controls",
      "model_module_version": "1.0.0",
      "model_name": "BoxModel",
      "state": {
       "children": [
        "IPY_MODEL_b65765906ee44cb3b63cdde9a2dc09af",
        "IPY_MODEL_ec2428253d024480b0dfb09e0ae14507"
       ],
       "layout": "IPY_MODEL_a56eed8f2d1f4727bb92705b58fd9c53"
      }
     },
     "312438d5a4774ecea112252627972e57": {
      "model_module": "@jupyter-widgets/controls",
      "model_module_version": "1.0.0",
      "model_name": "SliderStyleModel",
      "state": {
       "description_width": ""
      }
     },
     "34b1e24bad75420cbb4b7affcd27741a": {
      "model_module": "@jupyter-widgets/output",
      "model_module_version": "1.0.0",
      "model_name": "OutputModel",
      "state": {
       "layout": "IPY_MODEL_87f051faff114b73ae386f5b0fbfcfa6",
       "outputs": [
        {
         "data": {
          "image/png": "iVBORw0KGgoAAAANSUhEUgAAAhcAAAFkCAYAAACThxm6AAAABHNCSVQICAgIfAhkiAAAAAlwSFlz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\nXEiSpELiNBnrAAAABklEQVT9f6tDZ4TKp3PdAAAAAElFTkSuQmCC\n",
          "text/plain": "<matplotlib.figure.Figure at 0x74c0198>"
         },
         "metadata": {},
         "output_type": "display_data"
        }
       ]
      }
     },
     "447b354532fd4eceadf65a0c79f6ee3e": {
      "model_module": "@jupyter-widgets/base",
      "model_module_version": "1.0.0",
      "model_name": "LayoutModel",
      "state": {}
     },
     "46c2de3651bb47f2a3abac18baa815e4": {
      "model_module": "@jupyter-widgets/controls",
      "model_module_version": "1.0.0",
      "model_name": "ButtonModel",
      "state": {
       "button_style": "primary",
       "description": "Generate line",
       "layout": "IPY_MODEL_127bbaf07149460dbcbc04022cee0590",
       "style": "IPY_MODEL_01480352ef0c44d29a0aabba0a263d3b"
      }
     },
     "4973f2a0dc784132a87be4622c89eb4a": {
      "model_module": "@jupyter-widgets/base",
      "model_module_version": "1.0.0",
      "model_name": "LayoutModel",
      "state": {}
     },
     "4cf605c657ac41d6bb632915e5cc6f98": {
      "model_module": "@jupyter-widgets/controls",
      "model_module_version": "1.0.0",
      "model_name": "ButtonModel",
      "state": {
       "button_style": "danger",
       "description": "Step all",
       "layout": "IPY_MODEL_2ce7cb1801f24940853b9e388b518437",
       "style": "IPY_MODEL_292b776a7ffc41d18f87fdafae5acf9f"
      }
     },
     "4d4885e9f6ff40d1869985d4774b033a": {
      "model_module": "@jupyter-widgets/controls",
      "model_module_version": "1.0.0",
      "model_name": "SliderStyleModel",
      "state": {
       "description_width": ""
      }
     },
     "4eae050800614aedbca6d032c8fac6a4": {
      "model_module": "@jupyter-widgets/controls",
      "model_module_version": "1.0.0",
      "model_name": "DescriptionStyleModel",
      "state": {
       "description_width": ""
      }
     },
     "4f51751b4d874520bfd4f8038a1d54fa": {
      "model_module": "@jupyter-widgets/controls",
      "model_module_version": "1.0.0",
      "model_name": "BoxModel",
      "state": {
       "children": [
        "IPY_MODEL_a4b968ce44da4cf3a260023636a33a2f",
        "IPY_MODEL_82b7e48b553140f69c63228b380d5b41"
       ],
       "layout": "IPY_MODEL_16db6903e58046628a8289f8523f6562"
      }
     },
     "56a3da81beba4577bd9d72ef11b84c8b": {
      "model_module": "@jupyter-widgets/controls",
      "model_module_version": "1.0.0",
      "model_name": "DescriptionStyleModel",
      "state": {
       "description_width": ""
      }
     },
     "584d5a9a711e46b9881c53f271b9213a": {
      "model_module": "@jupyter-widgets/output",
      "model_module_version": "1.0.0",
      "model_name": "OutputModel",
      "state": {
       "layout": "IPY_MODEL_1721a6db207342098133046bd54753e3",
       "outputs": [
        {
         "data": {
          "image/png": "iVBORw0KGgoAAAANSUhEUgAAAg4AAAFkCAYAAABIPLOYAAAABHNCSVQICAgIfAhkiAAAAAlwSFlz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\nICIiIhn7/85Oqdw9g9YNAAAAAElFTkSuQmCC\n",
          "text/plain": "<matplotlib.figure.Figure at 0x88427b8>"
         },
         "metadata": {},
         "output_type": "display_data"
        }
       ]
      }
     },
     "587041e037dc418889e2849340ed45a8": {
      "model_module": "@jupyter-widgets/base",
      "model_module_version": "1.0.0",
      "model_name": "LayoutModel",
      "state": {}
     },
     "599292e4f7ea48c28a27b7a8b9dacf77": {
      "model_module": "@jupyter-widgets/base",
      "model_module_version": "1.0.0",
      "model_name": "LayoutModel",
      "state": {
       "align_items": "stretch",
       "border": "solid 2px",
       "display": "flex",
       "flex_flow": "column",
       "width": "80%"
      }
     },
     "5a83fd508ddd4cd3857d4c993eafcb3c": {
      "model_module": "@jupyter-widgets/controls",
      "model_module_version": "1.0.0",
      "model_name": "DescriptionStyleModel",
      "state": {
       "description_width": ""
      }
     },
     "5ac3cc45e4b140cba060bb1cb040a26a": {
      "model_module": "@jupyter-widgets/controls",
      "model_module_version": "1.0.0",
      "model_name": "DescriptionStyleModel",
      "state": {
       "description_width": ""
      }
     },
     "5c275d9f3a284d10a6b19e1da8fa19bc": {
      "model_module": "@jupyter-widgets/controls",
      "model_module_version": "1.0.0",
      "model_name": "BoxModel",
      "state": {
       "children": [
        "IPY_MODEL_ea4d8b617e5f4f519b7f8a1115639359",
        "IPY_MODEL_4f51751b4d874520bfd4f8038a1d54fa",
        "IPY_MODEL_c6a6d7fe7e4c4b318ec3b5a1db089c97",
        "IPY_MODEL_c84be229c66545cb9e610c529ce266de",
        "IPY_MODEL_b70405bc407841f9acb4a151bd53f620"
       ],
       "layout": "IPY_MODEL_599292e4f7ea48c28a27b7a8b9dacf77"
      }
     },
     "5c342728b59343178c8c683652f765c5": {
      "model_module": "@jupyter-widgets/base",
      "model_module_version": "1.0.0",
      "model_name": "LayoutModel",
      "state": {}
     },
     "5e6fdb9aa08d48708ffaa699a94e7198": {
      "model_module": "@jupyter-widgets/controls",
      "model_module_version": "1.0.0",
      "model_name": "SliderStyleModel",
      "state": {
       "description_width": ""
      }
     },
     "6352806486aa4d0bba9bd1b168f83047": {
      "model_module": "@jupyter-widgets/base",
      "model_module_version": "1.0.0",
      "model_name": "LayoutModel",
      "state": {}
     },
     "6e5339f8f27c442c865403649a7e1ba1": {
      "model_module": "@jupyter-widgets/controls",
      "model_module_version": "1.0.0",
      "model_name": "HTMLModel",
      "state": {
       "layout": "IPY_MODEL_c9ae8527b1184969b523225d2ebb4878",
       "style": "IPY_MODEL_9769ae33697041a9afa95a28dd573f96",
       "value": "#AAABBABBAB#"
      }
     },
     "70e9bef5f27a449a884aa984a3487b5b": {
      "model_module": "@jupyter-widgets/controls",
      "model_module_version": "1.0.0",
      "model_name": "SliderStyleModel",
      "state": {
       "description_width": ""
      }
     },
     "724d29fbac834b0ea489bff38d23969f": {
      "model_module": "@jupyter-widgets/controls",
      "model_module_version": "1.0.0",
      "model_name": "SliderStyleModel",
      "state": {
       "description_width": ""
      }
     },
     "73936afc182e4e2ebe9a9dd5b6ccc6e3": {
      "model_module": "@jupyter-widgets/controls",
      "model_module_version": "1.0.0",
      "model_name": "ButtonModel",
      "state": {
       "button_style": "primary",
       "description": "Generate line",
       "layout": "IPY_MODEL_5c342728b59343178c8c683652f765c5",
       "style": "IPY_MODEL_7f61e9302b4e4ef490ea3a42c3d16faf"
      }
     },
     "7713cbd399ef437ea6c29041091caa50": {
      "model_module": "@jupyter-widgets/controls",
      "model_module_version": "1.0.0",
      "model_name": "DescriptionStyleModel",
      "state": {
       "description_width": ""
      }
     },
     "7904e44b8cb94946a3d9b05e5c48c13f": {
      "model_module": "@jupyter-widgets/controls",
      "model_module_version": "1.0.0",
      "model_name": "VBoxModel",
      "state": {
       "_dom_classes": [
        "widget-interact"
       ],
       "children": [
        "IPY_MODEL_c943128a5f3545b3bf494ec49d120d8f",
        "IPY_MODEL_a1769550146549079bb82384852f9ab5"
       ],
       "layout": "IPY_MODEL_f43a4e3b66ca466d88e9dcb8402a7b63"
      }
     },
     "792877d0d0554757aabab32b346abcbc": {
      "model_module": "@jupyter-widgets/controls",
      "model_module_version": "1.0.0",
      "model_name": "VBoxModel",
      "state": {
       "_dom_classes": [
        "widget-interact"
       ],
       "children": [
        "IPY_MODEL_1072355242534a71af840b04929092df",
        "IPY_MODEL_34b1e24bad75420cbb4b7affcd27741a"
       ],
       "layout": "IPY_MODEL_c77c01be9d3644cd819178758d6fd12d"
      }
     },
     "7f61e9302b4e4ef490ea3a42c3d16faf": {
      "model_module": "@jupyter-widgets/controls",
      "model_module_version": "1.0.0",
      "model_name": "ButtonStyleModel",
      "state": {}
     },
     "82b7e48b553140f69c63228b380d5b41": {
      "model_module": "@jupyter-widgets/controls",
      "model_module_version": "1.0.0",
      "model_name": "HTMLModel",
      "state": {
       "layout": "IPY_MODEL_dab654ae4e77435d81965a8a7a9161b8",
       "style": "IPY_MODEL_e35023d0410d4b79be31bb5b1e9a677e",
       "value": " "
      }
     },
     "843a5b81047f4540a146ea0dfda1e1a3": {
      "model_module": "@jupyter-widgets/controls",
      "model_module_version": "1.0.0",
      "model_name": "ButtonModel",
      "state": {
       "button_style": "danger",
       "description": "Step all",
       "layout": "IPY_MODEL_bca0d0ab94ad4cef97a2377adc00cddc",
       "style": "IPY_MODEL_ada998dd456343d184b736027aca9e4f"
      }
     },
     "868f9505f9be470e9b69bf45da32342d": {
      "model_module": "@jupyter-widgets/base",
      "model_module_version": "1.0.0",
      "model_name": "LayoutModel",
      "state": {}
     },
     "87f051faff114b73ae386f5b0fbfcfa6": {
      "model_module": "@jupyter-widgets/base",
      "model_module_version": "1.0.0",
      "model_name": "LayoutModel",
      "state": {}
     },
     "8f70baaafcb248b5acbaf25a53a374b0": {
      "model_module": "@jupyter-widgets/controls",
      "model_module_version": "1.0.0",
      "model_name": "LabelModel",
      "state": {
       "layout": "IPY_MODEL_587041e037dc418889e2849340ed45a8",
       "style": "IPY_MODEL_4eae050800614aedbca6d032c8fac6a4",
       "value": "Tape length"
      }
     },
     "9769ae33697041a9afa95a28dd573f96": {
      "model_module": "@jupyter-widgets/controls",
      "model_module_version": "1.0.0",
      "model_name": "DescriptionStyleModel",
      "state": {
       "description_width": ""
      }
     },
     "997b74bf4dc34dae9a76a2f4e694afce": {
      "model_module": "@jupyter-widgets/controls",
      "model_module_version": "1.0.0",
      "model_name": "ButtonStyleModel",
      "state": {}
     },
     "9d7fddf8370e45269a9fd75fa4103d30": {
      "model_module": "@jupyter-widgets/base",
      "model_module_version": "1.0.0",
      "model_name": "LayoutModel",
      "state": {}
     },
     "a1769550146549079bb82384852f9ab5": {
      "model_module": "@jupyter-widgets/output",
      "model_module_version": "1.0.0",
      "model_name": "OutputModel",
      "state": {
       "layout": "IPY_MODEL_d6f793d7047a44de898cbee2206280c5",
       "outputs": [
        {
         "data": {
          "image/png": "iVBORw0KGgoAAAANSUhEUgAAAhcAAAFkCAYAAACThxm6AAAABHNCSVQICAgIfAhkiAAAAAlwSFlz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\nXEiSpELiNBnrAAAABklEQVT9f6tDZ4TKp3PdAAAAAElFTkSuQmCC\n",
          "text/plain": "<matplotlib.figure.Figure at 0x741d9b0>"
         },
         "metadata": {},
         "output_type": "display_data"
        }
       ]
      }
     },
     "a2d3c2d024054138ae28401faefdafee": {
      "model_module": "@jupyter-widgets/controls",
      "model_module_version": "1.0.0",
      "model_name": "BoxModel",
      "state": {
       "children": [
        "IPY_MODEL_8f70baaafcb248b5acbaf25a53a374b0",
        "IPY_MODEL_2346993e10de41219a404b8fb9881883"
       ],
       "layout": "IPY_MODEL_a56eed8f2d1f4727bb92705b58fd9c53"
      }
     },
     "a3ba7b3e42364fad8a48d123b4dc59de": {
      "model_module": "@jupyter-widgets/controls",
      "model_module_version": "1.0.0",
      "model_name": "IntSliderModel",
      "state": {
       "description": "Length",
       "layout": "IPY_MODEL_c4a8688050444922bef951407676e0af",
       "max": 10,
       "min": 3,
       "style": "IPY_MODEL_724d29fbac834b0ea489bff38d23969f",
       "value": 10
      }
     },
     "a4b968ce44da4cf3a260023636a33a2f": {
      "model_module": "@jupyter-widgets/controls",
      "model_module_version": "1.0.0",
      "model_name": "LabelModel",
      "state": {
       "layout": "IPY_MODEL_4973f2a0dc784132a87be4622c89eb4a",
       "style": "IPY_MODEL_178c8d9c2e7943efa03661026a1502ac",
       "value": "Current transition"
      }
     },
     "a56eed8f2d1f4727bb92705b58fd9c53": {
      "model_module": "@jupyter-widgets/base",
      "model_module_version": "1.0.0",
      "model_name": "LayoutModel",
      "state": {
       "display": "flex",
       "flex_flow": "row",
       "justify_content": "space-between"
      }
     },
     "a8c618cfc4bf4737816a3f23cd616621": {
      "model_module": "@jupyter-widgets/controls",
      "model_module_version": "1.0.0",
      "model_name": "LabelModel",
      "state": {
       "layout": "IPY_MODEL_23f862e9a2de4e2791aa32230f117098",
       "style": "IPY_MODEL_2d88f812b9ee4ec8baae4a9e58aacdb4",
       "value": "Current line value"
      }
     },
     "ada998dd456343d184b736027aca9e4f": {
      "model_module": "@jupyter-widgets/controls",
      "model_module_version": "1.0.0",
      "model_name": "ButtonStyleModel",
      "state": {}
     },
     "b3ff3fa3df454b00a9d3600cd1d3823a": {
      "model_module": "@jupyter-widgets/controls",
      "model_module_version": "1.0.0",
      "model_name": "HTMLModel",
      "state": {
       "layout": "IPY_MODEL_c7e3606c683047aa8c161c8b849dfa0d",
       "style": "IPY_MODEL_254afcb9d7e64b16bae459b23e6d8528",
       "value": "In progress"
      }
     },
     "b45d19360f7d4c33944bcb711d3cf699": {
      "model_module": "@jupyter-widgets/controls",
      "model_module_version": "1.0.0",
      "model_name": "HTMLModel",
      "state": {
       "layout": "IPY_MODEL_c830fdb89f7347388c8b366f3765d25b",
       "style": "IPY_MODEL_5a83fd508ddd4cd3857d4c993eafcb3c",
       "value": "#*A*AAAABAA#"
      }
     },
     "b4837bc975a44d8b989aa992e2d5736a": {
      "model_module": "@jupyter-widgets/controls",
      "model_module_version": "1.0.0",
      "model_name": "LabelModel",
      "state": {
       "layout": "IPY_MODEL_447b354532fd4eceadf65a0c79f6ee3e",
       "style": "IPY_MODEL_7713cbd399ef437ea6c29041091caa50",
       "value": "Tape length"
      }
     },
     "b65765906ee44cb3b63cdde9a2dc09af": {
      "model_module": "@jupyter-widgets/controls",
      "model_module_version": "1.0.0",
      "model_name": "LabelModel",
      "state": {
       "layout": "IPY_MODEL_cfb86325472e456c9f6a16395741ad2e",
       "style": "IPY_MODEL_28c6281071b8428d9af106d80dadcf0f",
       "value": "Finish status"
      }
     },
     "b70405bc407841f9acb4a151bd53f620": {
      "model_module": "@jupyter-widgets/controls",
      "model_module_version": "1.0.0",
      "model_name": "BoxModel",
      "state": {
       "children": [
        "IPY_MODEL_73936afc182e4e2ebe9a9dd5b6ccc6e3",
        "IPY_MODEL_00762ebc9da24c6c97196060b28ae4b4",
        "IPY_MODEL_4cf605c657ac41d6bb632915e5cc6f98"
       ],
       "layout": "IPY_MODEL_16db6903e58046628a8289f8523f6562"
      }
     },
     "ba153bcf3d8246488634376d28a47191": {
      "model_module": "@jupyter-widgets/controls",
      "model_module_version": "1.0.0",
      "model_name": "LabelModel",
      "state": {
       "layout": "IPY_MODEL_164eff79494d4f17a961e5768cb8040b",
       "style": "IPY_MODEL_5ac3cc45e4b140cba060bb1cb040a26a",
       "value": "Current transition"
      }
     },
     "bca0d0ab94ad4cef97a2377adc00cddc": {
      "model_module": "@jupyter-widgets/base",
      "model_module_version": "1.0.0",
      "model_name": "LayoutModel",
      "state": {}
     },
     "bd3340d5ff074ecc84ecf58df8728771": {
      "model_module": "@jupyter-widgets/base",
      "model_module_version": "1.0.0",
      "model_name": "LayoutModel",
      "state": {}
     },
     "bd5ca63b77984beeb0bf2712bd912ab5": {
      "model_module": "@jupyter-widgets/controls",
      "model_module_version": "1.0.0",
      "model_name": "DescriptionStyleModel",
      "state": {
       "description_width": ""
      }
     },
     "c16ba0f5e5da4fb589a48797b071e60b": {
      "model_module": "@jupyter-widgets/controls",
      "model_module_version": "1.0.0",
      "model_name": "BoxModel",
      "state": {
       "children": [
        "IPY_MODEL_ba153bcf3d8246488634376d28a47191",
        "IPY_MODEL_06253b60c85544d484d98ab708ea1839"
       ],
       "layout": "IPY_MODEL_a56eed8f2d1f4727bb92705b58fd9c53"
      }
     },
     "c4a8688050444922bef951407676e0af": {
      "model_module": "@jupyter-widgets/base",
      "model_module_version": "1.0.0",
      "model_name": "LayoutModel",
      "state": {}
     },
     "c6a6d7fe7e4c4b318ec3b5a1db089c97": {
      "model_module": "@jupyter-widgets/controls",
      "model_module_version": "1.0.0",
      "model_name": "BoxModel",
      "state": {
       "children": [
        "IPY_MODEL_f6f49aaf6277457c860fcaa6126e9b40",
        "IPY_MODEL_b3ff3fa3df454b00a9d3600cd1d3823a"
       ],
       "layout": "IPY_MODEL_16db6903e58046628a8289f8523f6562"
      }
     },
     "c77c01be9d3644cd819178758d6fd12d": {
      "model_module": "@jupyter-widgets/base",
      "model_module_version": "1.0.0",
      "model_name": "LayoutModel",
      "state": {}
     },
     "c7e3606c683047aa8c161c8b849dfa0d": {
      "model_module": "@jupyter-widgets/base",
      "model_module_version": "1.0.0",
      "model_name": "LayoutModel",
      "state": {}
     },
     "c830fdb89f7347388c8b366f3765d25b": {
      "model_module": "@jupyter-widgets/base",
      "model_module_version": "1.0.0",
      "model_name": "LayoutModel",
      "state": {}
     },
     "c84be229c66545cb9e610c529ce266de": {
      "model_module": "@jupyter-widgets/controls",
      "model_module_version": "1.0.0",
      "model_name": "BoxModel",
      "state": {
       "children": [
        "IPY_MODEL_b4837bc975a44d8b989aa992e2d5736a",
        "IPY_MODEL_a3ba7b3e42364fad8a48d123b4dc59de"
       ],
       "layout": "IPY_MODEL_16db6903e58046628a8289f8523f6562"
      }
     },
     "c943128a5f3545b3bf494ec49d120d8f": {
      "model_module": "@jupyter-widgets/controls",
      "model_module_version": "1.0.0",
      "model_name": "IntSliderModel",
      "state": {
       "description": "x",
       "layout": "IPY_MODEL_141d2e210b0b46e086ff5f5440117f07",
       "max": 5,
       "style": "IPY_MODEL_312438d5a4774ecea112252627972e57",
       "value": 1
      }
     },
     "c9ae8527b1184969b523225d2ebb4878": {
      "model_module": "@jupyter-widgets/base",
      "model_module_version": "1.0.0",
      "model_name": "LayoutModel",
      "state": {}
     },
     "cfb86325472e456c9f6a16395741ad2e": {
      "model_module": "@jupyter-widgets/base",
      "model_module_version": "1.0.0",
      "model_name": "LayoutModel",
      "state": {}
     },
     "d6f793d7047a44de898cbee2206280c5": {
      "model_module": "@jupyter-widgets/base",
      "model_module_version": "1.0.0",
      "model_name": "LayoutModel",
      "state": {}
     },
     "dab654ae4e77435d81965a8a7a9161b8": {
      "model_module": "@jupyter-widgets/base",
      "model_module_version": "1.0.0",
      "model_name": "LayoutModel",
      "state": {}
     },
     "dcb89622d3d44029a032d2b5e9be148a": {
      "model_module": "@jupyter-widgets/controls",
      "model_module_version": "1.0.0",
      "model_name": "ButtonStyleModel",
      "state": {}
     },
     "dfb2f07c38d04e84952766ddb5e5190a": {
      "model_module": "@jupyter-widgets/controls",
      "model_module_version": "1.0.0",
      "model_name": "IntSliderModel",
      "state": {
       "description": "x",
       "layout": "IPY_MODEL_bd3340d5ff074ecc84ecf58df8728771",
       "max": 5,
       "style": "IPY_MODEL_4d4885e9f6ff40d1869985d4774b033a",
       "value": 4
      }
     },
     "e2c9e912d0744b2da0449d7b264ced0c": {
      "model_module": "@jupyter-widgets/base",
      "model_module_version": "1.0.0",
      "model_name": "LayoutModel",
      "state": {}
     },
     "e35023d0410d4b79be31bb5b1e9a677e": {
      "model_module": "@jupyter-widgets/controls",
      "model_module_version": "1.0.0",
      "model_name": "DescriptionStyleModel",
      "state": {
       "description_width": ""
      }
     },
     "ea4d8b617e5f4f519b7f8a1115639359": {
      "model_module": "@jupyter-widgets/controls",
      "model_module_version": "1.0.0",
      "model_name": "BoxModel",
      "state": {
       "children": [
        "IPY_MODEL_025e5302f8e14f05bf644e3230774e32",
        "IPY_MODEL_6e5339f8f27c442c865403649a7e1ba1"
       ],
       "layout": "IPY_MODEL_16db6903e58046628a8289f8523f6562"
      }
     },
     "eacb4ae040c0499a9f720c12b694f3d4": {
      "model_module": "@jupyter-widgets/controls",
      "model_module_version": "1.0.0",
      "model_name": "BoxModel",
      "state": {
       "children": [
        "IPY_MODEL_a8c618cfc4bf4737816a3f23cd616621",
        "IPY_MODEL_b45d19360f7d4c33944bcb711d3cf699"
       ],
       "layout": "IPY_MODEL_a56eed8f2d1f4727bb92705b58fd9c53"
      }
     },
     "ec2428253d024480b0dfb09e0ae14507": {
      "model_module": "@jupyter-widgets/controls",
      "model_module_version": "1.0.0",
      "model_name": "HTMLModel",
      "state": {
       "layout": "IPY_MODEL_6352806486aa4d0bba9bd1b168f83047",
       "style": "IPY_MODEL_56a3da81beba4577bd9d72ef11b84c8b",
       "value": "In progress"
      }
     },
     "ec43c56549334344aeefd9b915db4d6e": {
      "model_module": "@jupyter-widgets/base",
      "model_module_version": "1.0.0",
      "model_name": "LayoutModel",
      "state": {}
     },
     "efafb979a27e4ea09b8f25dbb31e8d58": {
      "model_module": "@jupyter-widgets/base",
      "model_module_version": "1.0.0",
      "model_name": "LayoutModel",
      "state": {
       "align_items": "stretch",
       "border": "solid 2px",
       "display": "flex",
       "flex_flow": "column",
       "width": "80%"
      }
     },
     "f3c282e8af384eda8e07608233617716": {
      "model_module": "@jupyter-widgets/base",
      "model_module_version": "1.0.0",
      "model_name": "LayoutModel",
      "state": {}
     },
     "f43a4e3b66ca466d88e9dcb8402a7b63": {
      "model_module": "@jupyter-widgets/base",
      "model_module_version": "1.0.0",
      "model_name": "LayoutModel",
      "state": {}
     },
     "f6f49aaf6277457c860fcaa6126e9b40": {
      "model_module": "@jupyter-widgets/controls",
      "model_module_version": "1.0.0",
      "model_name": "LabelModel",
      "state": {
       "layout": "IPY_MODEL_868f9505f9be470e9b69bf45da32342d",
       "style": "IPY_MODEL_148cc692221645a4941bf1c5c11ccf66",
       "value": "Finish status"
      }
     },
     "fea65b1e8a6f4084958ef1b53331fe85": {
      "model_module": "@jupyter-widgets/controls",
      "model_module_version": "1.0.0",
      "model_name": "BoxModel",
      "state": {
       "children": [
        "IPY_MODEL_46c2de3651bb47f2a3abac18baa815e4",
        "IPY_MODEL_199b1649042141c1a7b08781be36d467",
        "IPY_MODEL_843a5b81047f4540a146ea0dfda1e1a3"
       ],
       "layout": "IPY_MODEL_a56eed8f2d1f4727bb92705b58fd9c53"
      }
     }
    },
    "version_major": 2,
    "version_minor": 0
   }
  }
 },
 "nbformat": 4,
 "nbformat_minor": 2
}
